{
 "cells": [
  {
   "cell_type": "code",
   "execution_count": 1,
   "metadata": {},
   "outputs": [
    {
     "name": "stdout",
     "output_type": "stream",
     "text": [
      "It is positive\n"
     ]
    }
   ],
   "source": [
    "num = 5\n",
    "# check it is positive\n",
    "# if condition\n",
    "if num >= 0:\n",
    "    print(\"It is positive\")"
   ]
  },
  {
   "cell_type": "code",
   "execution_count": 2,
   "metadata": {},
   "outputs": [
    {
     "name": "stdout",
     "output_type": "stream",
     "text": [
      "It is negative\n"
     ]
    }
   ],
   "source": [
    "num = -5\n",
    "# check it is positive or negative\n",
    "# if-else condition\n",
    "if num >= 0:\n",
    "    print(\"It is positive\")\n",
    "else:\n",
    "    print(\"It is negative\")"
   ]
  },
  {
   "cell_type": "code",
   "execution_count": 3,
   "metadata": {},
   "outputs": [
    {
     "name": "stdout",
     "output_type": "stream",
     "text": [
      "It is zero\n"
     ]
    }
   ],
   "source": [
    "num = 0\n",
    "# check it is positive or negative or zero\n",
    "# if-elif-else condition\n",
    "if num > 0:\n",
    "    print(\"It is positive\")\n",
    "elif num < 0:\n",
    "    print(\"It is negative\")\n",
    "else:\n",
    "    print(\"It is zero\")"
   ]
  },
  {
   "cell_type": "code",
   "execution_count": 7,
   "metadata": {},
   "outputs": [
    {
     "name": "stdout",
     "output_type": "stream",
     "text": [
      "greater than 100\n"
     ]
    }
   ],
   "source": [
    "# nested if conditions\n",
    "num = 150\n",
    "if num > 0:\n",
    "    if num > 100:\n",
    "        print(\"greater than 100\")\n",
    "    else:\n",
    "        print(\"less than 100\")\n",
    "else:\n",
    "    print(\"less than zero\")"
   ]
  },
  {
   "cell_type": "code",
   "execution_count": 9,
   "metadata": {},
   "outputs": [
    {
     "data": {
      "text/plain": [
       "'odd'"
      ]
     },
     "execution_count": 9,
     "metadata": {},
     "output_type": "execute_result"
    }
   ],
   "source": [
    "# one line if condtion\n",
    "num = 5\n",
    "string = \"even\" if num%2==0 else \"odd\"\n",
    "string"
   ]
  },
  {
   "cell_type": "code",
   "execution_count": 10,
   "metadata": {},
   "outputs": [
    {
     "name": "stdout",
     "output_type": "stream",
     "text": [
      "even\n"
     ]
    }
   ],
   "source": [
    "num = 10\n",
    "print(\"even\" if num%2==0 else \"odd\")"
   ]
  }
 ],
 "metadata": {
  "kernelspec": {
   "display_name": "Python 3",
   "language": "python",
   "name": "python3"
  },
  "language_info": {
   "codemirror_mode": {
    "name": "ipython",
    "version": 3
   },
   "file_extension": ".py",
   "mimetype": "text/x-python",
   "name": "python",
   "nbconvert_exporter": "python",
   "pygments_lexer": "ipython3",
   "version": "3.6.10"
  }
 },
 "nbformat": 4,
 "nbformat_minor": 4
}
