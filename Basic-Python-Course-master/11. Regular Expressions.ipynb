{
 "cells": [
  {
   "cell_type": "markdown",
   "metadata": {},
   "source": [
    "## A RegEx, or Regular Expression, is a sequence of characters that forms a search pattern.\n",
    "\n",
    "## RegEx can be used to check if a string contains the specified search pattern."
   ]
  },
  {
   "cell_type": "code",
   "execution_count": 1,
   "metadata": {},
   "outputs": [],
   "source": [
    "# Search the string to see if it starts with \"The\" and ends with \"Spain\":\n",
    "\n",
    "import re\n",
    "\n",
    "txt = \"The rain in Spain\"\n",
    "x = re.search(\"^The.*Spain$\", txt)"
   ]
  },
  {
   "cell_type": "markdown",
   "metadata": {},
   "source": [
    "## Meta Characters"
   ]
  },
  {
   "cell_type": "markdown",
   "metadata": {},
   "source": [
    "* []\tA set of characters\t\"[a-m]\"\t\n",
    "* \\\tSignals a special sequence (can also be used to escape special characters)\t\"\\d\"\t\n",
    "* .\tAny character (except newline character)\t\n",
    "* ^\tStarts with\t\"^hello\"\t\n",
    "* \"dollar sign\" Ends with\t\n",
    "* 'star sign'\tZero or more occurrences\t\"aix*\"\t\n",
    "* '+'\tOne or more occurrences\t\"aix+\"\t\n",
    "* {}\tExactly the specified number of occurrences\t\"al{2}\"\t\n",
    "* |\tEither or\t\"falls|stays\"\t\n",
    "* ()\tCapture and group"
   ]
  },
  {
   "cell_type": "markdown",
   "metadata": {},
   "source": [
    "## Built-in Function"
   ]
  },
  {
   "cell_type": "markdown",
   "metadata": {},
   "source": [
    "* findall\tReturns a list containing all matches\n",
    "* search\tReturns a Match object if there is a match anywhere in the string\n",
    "* split\tReturns a list where the string has been split at each match\n",
    "* sub\tReplaces one or many matches with a string"
   ]
  },
  {
   "cell_type": "markdown",
   "metadata": {},
   "source": [
    "## Special Characters"
   ]
  },
  {
   "cell_type": "markdown",
   "metadata": {},
   "source": [
    "* \\A\tReturns a match if the specified characters are at the beginning of the string\t\"\\AThe\"\t\n",
    "* \\b\tReturns a match where the specified characters are at the beginning or at the end of a word\tr\"\\bain\"r\"ain\\b\"\t\n",
    "* \\B\tReturns a match where the specified characters are present, but NOT at the beginning (or at the end) of a word\tr\"\\Bain\" r\"ain\\B\"\t\n",
    "* \\d\tReturns a match where the string contains digits (numbers from 0-9)\t\"\\d\"\t\n",
    "* \\D\tReturns a match where the string DOES NOT contain digits\t\"\\D\"\t\n",
    "* \\s\tReturns a match where the string contains a white space character\t\"\\s\"\t\n",
    "* \\S\tReturns a match where the string DOES NOT contain a white space character\t\"\\S\"\t\n",
    "* \\w\tReturns a match where the string contains any word characters (characters from a to Z, digits from 0-9, and the underscore _ character)\t\"\\w\"\t\n",
    "* \\W\tReturns a match where the string DOES NOT contain any word characters\t\"\\W\"\t\n",
    "* \\Z\tReturns a match if the specified characters are at the end of the string\t\"Spain\\Z\""
   ]
  },
  {
   "cell_type": "markdown",
   "metadata": {},
   "source": [
    "## sets"
   ]
  },
  {
   "cell_type": "markdown",
   "metadata": {},
   "source": [
    "* [arn]\tReturns a match where one of the specified characters (a, r, or n) are present\t\n",
    "* [a-n]\tReturns a match for any lower case character, alphabetically between a and n\t\n",
    "* [^arn]\tReturns a match for any character EXCEPT a, r, and n\t\n",
    "* [0123]\tReturns a match where any of the specified digits (0, 1, 2, or 3) are present\t\n",
    "* [0-9]\tReturns a match for any digit between 0 and 9\t\n",
    "* [0-5][0-9]\tReturns a match for any two-digit numbers from 00 and 59\t\n",
    "* [a-zA-Z]\tReturns a match for any character alphabetically between a and z, lower case OR upper case\t\n",
    "* [+]\tIn sets, +, *, ., |, (), $,{} has no special meaning, so [+] means: return a match for any + character in the stri"
   ]
  },
  {
   "cell_type": "code",
   "execution_count": 5,
   "metadata": {},
   "outputs": [
    {
     "name": "stdout",
     "output_type": "stream",
     "text": [
      "['ai', 'ai']\n"
     ]
    }
   ],
   "source": [
    "# using the findall function\n",
    "\n",
    "import re\n",
    "\n",
    "str = \"The rain in Spain\"\n",
    "x = re.findall(\"ai\", str)\n",
    "print(x)"
   ]
  },
  {
   "cell_type": "code",
   "execution_count": 6,
   "metadata": {},
   "outputs": [
    {
     "name": "stdout",
     "output_type": "stream",
     "text": [
      "The first white-space character is located in position: 3\n"
     ]
    }
   ],
   "source": [
    "# using the search function\n",
    "\n",
    "str = \"The rain in Spain\"\n",
    "x = re.search(\"\\s\", str)\n",
    "\n",
    "print(\"The first white-space character is located in position:\", x.start())"
   ]
  },
  {
   "cell_type": "code",
   "execution_count": 7,
   "metadata": {},
   "outputs": [
    {
     "name": "stdout",
     "output_type": "stream",
     "text": [
      "['The', 'rain', 'in', 'Spain']\n"
     ]
    }
   ],
   "source": [
    "# using the split function\n",
    "\n",
    "import re\n",
    "\n",
    "str = \"The rain in Spain\"\n",
    "x = re.split(\"\\s\", str)\n",
    "print(x)"
   ]
  },
  {
   "cell_type": "code",
   "execution_count": 9,
   "metadata": {},
   "outputs": [
    {
     "name": "stdout",
     "output_type": "stream",
     "text": [
      "The9rain9in9Spain\n"
     ]
    }
   ],
   "source": [
    "# using the sub function(used to replace string)\n",
    "\n",
    "import re\n",
    "\n",
    "str = \"The rain in Spain\"\n",
    "x = re.sub(\"\\s\", \"9\", str)\n",
    "print(x)"
   ]
  },
  {
   "cell_type": "code",
   "execution_count": 10,
   "metadata": {},
   "outputs": [
    {
     "name": "stdout",
     "output_type": "stream",
     "text": [
      "(12, 17)\n"
     ]
    }
   ],
   "source": [
    "# using the span function to search for occurences\n",
    "\n",
    "import re\n",
    "\n",
    "str = \"The rain in Spain\"\n",
    "x = re.search(r\"\\bS\\w+\", str)\n",
    "print(x.span())\n"
   ]
  },
  {
   "cell_type": "code",
   "execution_count": 11,
   "metadata": {},
   "outputs": [
    {
     "name": "stdout",
     "output_type": "stream",
     "text": [
      "Spain\n"
     ]
    }
   ],
   "source": [
    "# printing the group where\n",
    "\n",
    "import re\n",
    "\n",
    "str = \"The rain in Spain\"\n",
    "x = re.search(r\"\\bS\\w+\", str)\n",
    "print(x.group())"
   ]
  }
 ],
 "metadata": {
  "kernelspec": {
   "display_name": "Python 3",
   "language": "python",
   "name": "python3"
  },
  "language_info": {
   "codemirror_mode": {
    "name": "ipython",
    "version": 3
   },
   "file_extension": ".py",
   "mimetype": "text/x-python",
   "name": "python",
   "nbconvert_exporter": "python",
   "pygments_lexer": "ipython3",
   "version": "3.6.8"
  }
 },
 "nbformat": 4,
 "nbformat_minor": 2
}
