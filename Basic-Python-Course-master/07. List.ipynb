{
 "cells": [
  {
   "cell_type": "code",
   "execution_count": 61,
   "metadata": {},
   "outputs": [
    {
     "name": "stdout",
     "output_type": "stream",
     "text": [
      "['apple', 'banana', 'cherry']\n"
     ]
    }
   ],
   "source": [
    "# Making a list\n",
    "list = [\"apple\", \"banana\", \"cherry\"]\n",
    "print(list)\n"
   ]
  },
  {
   "cell_type": "code",
   "execution_count": 62,
   "metadata": {},
   "outputs": [
    {
     "name": "stdout",
     "output_type": "stream",
     "text": [
      "banana\n"
     ]
    }
   ],
   "source": [
    "# accessing the list\n",
    "list = [\"apple\", \"banana\", \"cherry\"]\n",
    "print(list[1])"
   ]
  },
  {
   "cell_type": "code",
   "execution_count": 63,
   "metadata": {},
   "outputs": [
    {
     "name": "stdout",
     "output_type": "stream",
     "text": [
      "cherry\n"
     ]
    }
   ],
   "source": [
    "# negative indexing\n",
    "\n",
    "print(list[-1])"
   ]
  },
  {
   "cell_type": "code",
   "execution_count": 1,
   "metadata": {},
   "outputs": [
    {
     "name": "stdout",
     "output_type": "stream",
     "text": [
      "['cherry', 'orange', 'kiwi']\n"
     ]
    }
   ],
   "source": [
    "# accessing a range of lists\n",
    "list = [\"apple\", \"banana\", \"cherry\", \"orange\", \"kiwi\", \"melon\", \"mango\"]\n",
    "print(list[2:5])"
   ]
  },
  {
   "cell_type": "code",
   "execution_count": 65,
   "metadata": {},
   "outputs": [
    {
     "name": "stdout",
     "output_type": "stream",
     "text": [
      "['cherry', 'orange', 'kiwi']\n"
     ]
    }
   ],
   "source": [
    "print(list[-5:-2])"
   ]
  },
  {
   "cell_type": "code",
   "execution_count": 66,
   "metadata": {},
   "outputs": [
    {
     "name": "stdout",
     "output_type": "stream",
     "text": [
      "['apple', 'icecream', 'cherry', 'orange', 'kiwi', 'melon', 'mango']\n"
     ]
    }
   ],
   "source": [
    "# reassigning the items in the list\n",
    "\n",
    "list[1] = 'icecream'\n",
    "print(list)"
   ]
  },
  {
   "cell_type": "code",
   "execution_count": 67,
   "metadata": {},
   "outputs": [
    {
     "name": "stdout",
     "output_type": "stream",
     "text": [
      "['mango', 'melon', 'kiwi', 'orange', 'cherry', 'icecream', 'apple']\n"
     ]
    }
   ],
   "source": [
    "# reversing the list\n",
    "\n",
    "print(list[::-1])"
   ]
  },
  {
   "cell_type": "code",
   "execution_count": 68,
   "metadata": {},
   "outputs": [
    {
     "name": "stdout",
     "output_type": "stream",
     "text": [
      "['apple', 'icecream', 'cherry', 'orange', 'kiwi', 'melon', 'mango', 'potato', 'tomato']\n"
     ]
    }
   ],
   "source": [
    "# concatinating two lists\n",
    "\n",
    "list2 = ['potato', 'tomato']\n",
    "\n",
    "list3 = list + list2\n",
    "print(list3)"
   ]
  },
  {
   "cell_type": "code",
   "execution_count": 69,
   "metadata": {},
   "outputs": [
    {
     "name": "stdout",
     "output_type": "stream",
     "text": [
      "['apple', 'icecream', 'cherry', 'orange', 'kiwi', 'melon', 'mango', 'cauliflower']\n"
     ]
    }
   ],
   "source": [
    "# appending items to the list\n",
    "\n",
    "list.append('cauliflower')\n",
    "print(list)"
   ]
  },
  {
   "cell_type": "code",
   "execution_count": 70,
   "metadata": {},
   "outputs": [
    {
     "name": "stdout",
     "output_type": "stream",
     "text": [
      "['brinjal', 'apple', 'icecream', 'cherry', 'orange', 'kiwi', 'melon', 'mango', 'cauliflower']\n"
     ]
    }
   ],
   "source": [
    "# inserting items to the list\n",
    "\n",
    "list.insert(0, 'brinjal')\n",
    "print(list)"
   ]
  },
  {
   "cell_type": "code",
   "execution_count": 71,
   "metadata": {},
   "outputs": [
    {
     "name": "stdout",
     "output_type": "stream",
     "text": [
      "['apple', 'icecream', 'cherry', 'orange', 'kiwi', 'melon', 'mango', 'cauliflower']\n"
     ]
    }
   ],
   "source": [
    "# removing items from the list\n",
    "\n",
    "list.remove('brinjal')\n",
    "print(list)"
   ]
  },
  {
   "cell_type": "code",
   "execution_count": 5,
   "metadata": {},
   "outputs": [
    {
     "name": "stdout",
     "output_type": "stream",
     "text": [
      "['apple', 'banana', 'cherry', 'orange', 'kiwi', 'melon', 'mango', 'flower', 'app']\n"
     ]
    }
   ],
   "source": [
    "# extending items to the list\n",
    "\n",
    "list.extend(['flower', 'app'])\n",
    "print(list)"
   ]
  },
  {
   "cell_type": "code",
   "execution_count": 73,
   "metadata": {},
   "outputs": [
    {
     "name": "stdout",
     "output_type": "stream",
     "text": [
      "['apple', 'cauliflower', 'cherry', 'e', 'f', 'icecream', 'kiwi', 'l', 'mango', 'melon', 'o', 'orange', 'r', 'w']\n"
     ]
    }
   ],
   "source": [
    "# sorting the list\n",
    "\n",
    "list.sort()\n",
    "print(list)"
   ]
  },
  {
   "cell_type": "code",
   "execution_count": 74,
   "metadata": {},
   "outputs": [
    {
     "name": "stdout",
     "output_type": "stream",
     "text": [
      "['apple', 'cauliflower', 'cherry', 'e', 'f', 'icecream', 'kiwi', 'l', 'mango', 'melon', 'o', 'orange', 'r']\n"
     ]
    }
   ],
   "source": [
    "# applying pop operation\n",
    "\n",
    "list.pop()\n",
    "print(list)"
   ]
  },
  {
   "cell_type": "code",
   "execution_count": 75,
   "metadata": {},
   "outputs": [
    {
     "name": "stdout",
     "output_type": "stream",
     "text": [
      "['apple', 'cauliflower', 'cherry', 'e', 'icecream', 'kiwi', 'mango', 'melon', 'orange', 'r']\n"
     ]
    }
   ],
   "source": [
    "# applying the remove operation\n",
    "\n",
    "list.remove('l')\n",
    "list.remove('f')\n",
    "list.remove('o')\n",
    "print(list)"
   ]
  },
  {
   "cell_type": "code",
   "execution_count": 76,
   "metadata": {},
   "outputs": [
    {
     "name": "stdout",
     "output_type": "stream",
     "text": [
      "['apple', 'cauliflower', 'cherry', 'e', 'icecream', 'kiwi', 'mango', 'melon', 'orange', 'r']\n"
     ]
    }
   ],
   "source": [
    "# copying the list\n",
    "\n",
    "listcopy = list.copy()\n",
    "print(listcopy)"
   ]
  },
  {
   "cell_type": "code",
   "execution_count": 77,
   "metadata": {},
   "outputs": [
    {
     "name": "stdout",
     "output_type": "stream",
     "text": [
      "['r', 'orange', 'melon', 'mango', 'kiwi', 'icecream', 'e', 'cherry', 'cauliflower', 'apple']\n"
     ]
    }
   ],
   "source": [
    "# reversing the list using reverse function\n",
    "\n",
    "list.reverse()\n",
    "print(list)"
   ]
  },
  {
   "cell_type": "code",
   "execution_count": 78,
   "metadata": {},
   "outputs": [
    {
     "name": "stdout",
     "output_type": "stream",
     "text": [
      "1\n"
     ]
    }
   ],
   "source": [
    "# counting the elements in the list\n",
    "\n",
    "x = list.count('orange')\n",
    "print(x)"
   ]
  },
  {
   "cell_type": "code",
   "execution_count": 79,
   "metadata": {},
   "outputs": [],
   "source": [
    "# using lists as stack (fifo)\n",
    "\n",
    "stack = [2, 3, 4, 5, 6]\n",
    "stack.append(7)\n",
    "stack.append(8)\n",
    "stack.append(9)"
   ]
  },
  {
   "cell_type": "code",
   "execution_count": 80,
   "metadata": {},
   "outputs": [
    {
     "name": "stdout",
     "output_type": "stream",
     "text": [
      "[2, 3, 4, 5, 6, 7, 8, 9]\n"
     ]
    }
   ],
   "source": [
    "print(stack)"
   ]
  },
  {
   "cell_type": "code",
   "execution_count": 81,
   "metadata": {},
   "outputs": [
    {
     "name": "stdout",
     "output_type": "stream",
     "text": [
      "[2, 3, 4, 5, 6]\n"
     ]
    }
   ],
   "source": [
    "stack.pop()\n",
    "stack.pop()\n",
    "stack.pop()\n",
    "print(stack)"
   ]
  },
  {
   "cell_type": "code",
   "execution_count": 82,
   "metadata": {},
   "outputs": [
    {
     "name": "stdout",
     "output_type": "stream",
     "text": [
      "deque(['Ram', 'Shyam', 'Sita', 'Gita'])\n"
     ]
    }
   ],
   "source": [
    "# using lists as queue (lifo)\n",
    "\n",
    "from collections import deque\n",
    "\n",
    "queue = deque(['Ram', 'Shyam', 'Sita', 'Gita'])\n",
    "print(queue)"
   ]
  },
  {
   "cell_type": "code",
   "execution_count": 83,
   "metadata": {},
   "outputs": [
    {
     "name": "stdout",
     "output_type": "stream",
     "text": [
      "deque(['Ram', 'Shyam', 'Sita', 'Gita', 'Rohan', 'Gopal'])\n"
     ]
    }
   ],
   "source": [
    "queue.append('Rohan')\n",
    "queue.append('Gopal')\n",
    "print(queue)"
   ]
  },
  {
   "cell_type": "code",
   "execution_count": 84,
   "metadata": {},
   "outputs": [
    {
     "name": "stdout",
     "output_type": "stream",
     "text": [
      "deque(['Shyam', 'Sita', 'Gita', 'Rohan', 'Gopal'])\n"
     ]
    }
   ],
   "source": [
    "queue.popleft()\n",
    "print(queue)"
   ]
  },
  {
   "cell_type": "code",
   "execution_count": 39,
   "metadata": {},
   "outputs": [
    {
     "name": "stdout",
     "output_type": "stream",
     "text": [
      "[]\n"
     ]
    }
   ],
   "source": [
    "# clearing the list\n",
    "\n",
    "list.clear()\n",
    "print(list)"
   ]
  },
  {
   "cell_type": "code",
   "execution_count": 1,
   "metadata": {},
   "outputs": [
    {
     "name": "stdout",
     "output_type": "stream",
     "text": [
      "apple\n",
      "banana\n",
      "cherry\n"
     ]
    }
   ],
   "source": [
    "# printing the items of a list\n",
    "\n",
    "list = [\"apple\", \"banana\", \"cherry\"]\n",
    "for x in list:\n",
    "    print(x)"
   ]
  },
  {
   "cell_type": "code",
   "execution_count": 3,
   "metadata": {},
   "outputs": [
    {
     "name": "stdout",
     "output_type": "stream",
     "text": [
      "Yes, 'apple' is in the fruits list\n"
     ]
    }
   ],
   "source": [
    "# checking if the item exists or not\n",
    "\n",
    "list = [\"apple\", \"banana\", \"cherry\"]\n",
    "if \"apple\" in list:\n",
    "    print(\"Yes, 'apple' is in the fruits list\")"
   ]
  }
 ],
 "metadata": {
  "kernelspec": {
   "display_name": "Python 3",
   "language": "python",
   "name": "python3"
  },
  "language_info": {
   "codemirror_mode": {
    "name": "ipython",
    "version": 3
   },
   "file_extension": ".py",
   "mimetype": "text/x-python",
   "name": "python",
   "nbconvert_exporter": "python",
   "pygments_lexer": "ipython3",
   "version": "3.6.8"
  }
 },
 "nbformat": 4,
 "nbformat_minor": 2
}
