{
 "cells": [
  {
   "cell_type": "markdown",
   "metadata": {},
   "source": [
    "### A date in Python is not a data type of its own, but we can import a module named datetime to work with dates as date objects."
   ]
  },
  {
   "cell_type": "code",
   "execution_count": 1,
   "metadata": {},
   "outputs": [
    {
     "name": "stdout",
     "output_type": "stream",
     "text": [
      "2019-10-19 10:24:07.573914\n"
     ]
    }
   ],
   "source": [
    "# printing the current date and time\n",
    "\n",
    "import datetime\n",
    "\n",
    "x = datetime.datetime.now()\n",
    "print(x)\n"
   ]
  },
  {
   "cell_type": "code",
   "execution_count": 2,
   "metadata": {},
   "outputs": [
    {
     "name": "stdout",
     "output_type": "stream",
     "text": [
      "2019\n",
      "Saturday\n"
     ]
    }
   ],
   "source": [
    "# returning the specific things\n",
    "\n",
    "import datetime\n",
    "\n",
    "x = datetime.datetime.now()\n",
    "\n",
    "print(x.year)\n",
    "print(x.strftime(\"%A\"))"
   ]
  },
  {
   "cell_type": "code",
   "execution_count": 3,
   "metadata": {},
   "outputs": [
    {
     "name": "stdout",
     "output_type": "stream",
     "text": [
      "June\n"
     ]
    }
   ],
   "source": [
    "import datetime\n",
    "\n",
    "x = datetime.datetime(2018, 6, 1)\n",
    "\n",
    "print(x.strftime(\"%B\"))"
   ]
  },
  {
   "cell_type": "markdown",
   "metadata": {},
   "source": [
    "## Other Date Formats"
   ]
  },
  {
   "cell_type": "markdown",
   "metadata": {},
   "source": [
    "* %a\tWeekday, short version\tWed\t\n",
    "* %A\tWeekday, full version\tWednesday\t\n",
    "* %w\tWeekday as a number 0-6, 0 is Sunday\t3\t\n",
    "* %d\tDay of month 01-31\t31\t\n",
    "* %b\tMonth name, short version\tDec\t\n",
    "* %B\tMonth name, full version\tDecember\t\n",
    "* %m\tMonth as a number 01-12\t12\t\n",
    "* %y\tYear, short version, without century\t18\t\n",
    "* %Y\tYear, full version\t2018\t\n",
    "* %H\tHour 00-23\t17\t\n",
    "* %I\tHour 00-12\t05\t\n",
    "* %p\tAM/PM\tPM\t\n",
    "* %M\tMinute 00-59\t41\t\n",
    "* %S\tSecond 00-59\t08\t\n",
    "* %f\tMicrosecond 000000-999999\t548513\t\n",
    "* %z\tUTC offset\t+0100\t\n",
    "* %Z\tTimezone\tCST\t\n",
    "* %j\tDay number of year 001-366\t365\t\n",
    "* %U\tWeek number of year, Sunday as the first day of week, 00-53\t52\t\n",
    "* %W\tWeek number of year, Monday as the first day of week, 00-53\t52\t\n",
    "* %c\tLocal version of date and time\tMon Dec 31 17:41:00 2018\t\n",
    "* %x\tLocal version of date\t12/31/18\t\n",
    "* %X\tLocal version of time\t17:41:00\t\n",
    "* %%\tA % character\t%\t\n"
   ]
  }
 ],
 "metadata": {
  "kernelspec": {
   "display_name": "Python 3",
   "language": "python",
   "name": "python3"
  },
  "language_info": {
   "codemirror_mode": {
    "name": "ipython",
    "version": 3
   },
   "file_extension": ".py",
   "mimetype": "text/x-python",
   "name": "python",
   "nbconvert_exporter": "python",
   "pygments_lexer": "ipython3",
   "version": "3.6.8"
  }
 },
 "nbformat": 4,
 "nbformat_minor": 2
}
