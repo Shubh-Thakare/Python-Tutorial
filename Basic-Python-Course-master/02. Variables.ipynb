{
 "cells": [
  {
   "cell_type": "markdown",
   "metadata": {},
   "source": [
    "### Let's Check the Rules in Naming a Variable\n",
    "\n",
    "* Rule 1: A Variable name must start with a letter or Underscore\n",
    "* Rule 2: A Variable name cannot start with a number\n",
    "* Rule 3: A Variable name can only contain alphanumeric characters and underscores\n",
    "* Rule 4: Variable names are Case Sensitive"
   ]
  },
  {
   "cell_type": "code",
   "execution_count": 9,
   "metadata": {},
   "outputs": [
    {
     "name": "stdout",
     "output_type": "stream",
     "text": [
      "5\n",
      "8\n",
      "88\n"
     ]
    }
   ],
   "source": [
    "_a = 5\n",
    "String = 8\n",
    "string = 88\n",
    "#8x = 9\n",
    "\n",
    "print(_a)\n",
    "print(String)\n",
    "print(string)"
   ]
  },
  {
   "cell_type": "markdown",
   "metadata": {},
   "source": [
    "### Creating Variables"
   ]
  },
  {
   "cell_type": "markdown",
   "metadata": {},
   "source": [
    "* Variables are containers solely used for storing data values.\n",
    "\n",
    "* Python has no command for declaring a variable, ie., there is no declaration of variables.\n",
    "\n",
    "* A variable is created the moment you first assign a value to it."
   ]
  },
  {
   "cell_type": "code",
   "execution_count": 2,
   "metadata": {},
   "outputs": [],
   "source": [
    "x = 10\n",
    "y = 15.6\n",
    "z = 'String'"
   ]
  },
  {
   "cell_type": "markdown",
   "metadata": {},
   "source": [
    "### Let's Print the Variables"
   ]
  },
  {
   "cell_type": "code",
   "execution_count": 3,
   "metadata": {},
   "outputs": [
    {
     "name": "stdout",
     "output_type": "stream",
     "text": [
      "10\n",
      "15.6\n",
      "String\n"
     ]
    }
   ],
   "source": [
    "print(x)\n",
    "print(y)\n",
    "print(z)"
   ]
  },
  {
   "cell_type": "markdown",
   "metadata": {},
   "source": [
    "### Let's Check the Datatype of the Variables"
   ]
  },
  {
   "cell_type": "code",
   "execution_count": 5,
   "metadata": {},
   "outputs": [
    {
     "name": "stdout",
     "output_type": "stream",
     "text": [
      "<class 'int'>\n",
      "<class 'float'>\n",
      "<class 'str'>\n"
     ]
    }
   ],
   "source": [
    "print(type(x))\n",
    "print(type(y))\n",
    "print(type(z))"
   ]
  },
  {
   "cell_type": "markdown",
   "metadata": {},
   "source": [
    "### Let's Assign Multiple Values to Multiple Variables at one time"
   ]
  },
  {
   "cell_type": "code",
   "execution_count": 10,
   "metadata": {},
   "outputs": [
    {
     "name": "stdout",
     "output_type": "stream",
     "text": [
      "<class 'int'>\n",
      "<class 'float'>\n",
      "<class 'str'>\n"
     ]
    }
   ],
   "source": [
    "x, y, z = 10, 15.6, 'String'\n",
    "\n",
    "print(type(x))\n",
    "print(type(y))\n",
    "print(type(z))"
   ]
  },
  {
   "cell_type": "markdown",
   "metadata": {},
   "source": [
    "### Let's Check how to Output the Variables"
   ]
  },
  {
   "cell_type": "code",
   "execution_count": 18,
   "metadata": {},
   "outputs": [
    {
     "name": "stdout",
     "output_type": "stream",
     "text": [
      "The Value of x is :  1056.88\n",
      "The Value of y is :  89\n"
     ]
    }
   ],
   "source": [
    "# for Integer and Float we can use comma to output the variables\n",
    "\n",
    "x = 1056.88\n",
    "y = 89\n",
    "print(\"The Value of x is : \", x)\n",
    "print(\"The Value of y is : \", y)"
   ]
  },
  {
   "cell_type": "code",
   "execution_count": 20,
   "metadata": {},
   "outputs": [
    {
     "name": "stdout",
     "output_type": "stream",
     "text": [
      "The Value of x is : String\n",
      "The Value of x is :  String\n"
     ]
    }
   ],
   "source": [
    "# for Strings we can use both '+' and ',' to output the variables\n",
    "\n",
    "x = \"String\"\n",
    "print(\"The Value of x is : \"+ x)\n",
    "print(\"The Value of x is : \", x)"
   ]
  },
  {
   "cell_type": "markdown",
   "metadata": {},
   "source": [
    "### Concatenation of Variables in Python"
   ]
  },
  {
   "cell_type": "code",
   "execution_count": 25,
   "metadata": {},
   "outputs": [
    {
     "name": "stdout",
     "output_type": "stream",
     "text": [
      "PythonisLove\n",
      "Python is Love\n"
     ]
    }
   ],
   "source": [
    "# let's first check the string concatenation\n",
    "\n",
    "x = 'Python'\n",
    "y = 'is'\n",
    "z = 'Love'\n",
    "\n",
    "a = x+y+z\n",
    "print(a)\n",
    "b = x+\" \"+y+\" \"+z\n",
    "print(b)"
   ]
  },
  {
   "cell_type": "code",
   "execution_count": 27,
   "metadata": {},
   "outputs": [
    {
     "name": "stdout",
     "output_type": "stream",
     "text": [
      "25\n"
     ]
    }
   ],
   "source": [
    "# now, let's check the integer and float concatenation\n",
    "\n",
    "x = 10\n",
    "y = 15\n",
    "\n",
    "a = x + y\n",
    "print(a) # here, the '+' symbol will act as an arithmetic operation for addition and not concatenation"
   ]
  },
  {
   "cell_type": "code",
   "execution_count": 33,
   "metadata": {},
   "outputs": [],
   "source": [
    "# let's try to concatenate strings and Integer/floats\n",
    "\n",
    "x = 'My Age is'\n",
    "y = 8\n",
    "\n",
    "#z = x+y\n",
    "#print(z)\n",
    "\n",
    "#Expected : Type Error, Cannot Concatenate String and Integer"
   ]
  },
  {
   "cell_type": "code",
   "execution_count": 1,
   "metadata": {},
   "outputs": [
    {
     "name": "stdout",
     "output_type": "stream",
     "text": [
      "My Age is 8 and cgpa is 6\n"
     ]
    }
   ],
   "source": [
    "# the above programs produces an error because we cannot concatenate a string and an Integer\n",
    "\n",
    "\n",
    "# but using the format function we can concatenate them\n",
    "\n",
    "x = 'My Age is {} and cgpa is {}'\n",
    "print(x.format(8, 6))"
   ]
  },
  {
   "cell_type": "markdown",
   "metadata": {},
   "source": [
    "### Global Variables\n",
    "\n",
    "* Global Variables are Variables which are created Outside of the Function. But, They can accessed from anywhere.\n"
   ]
  },
  {
   "cell_type": "code",
   "execution_count": 36,
   "metadata": {},
   "outputs": [
    {
     "name": "stdout",
     "output_type": "stream",
     "text": [
      "89.63\n"
     ]
    }
   ],
   "source": [
    "x = 89.63\n",
    "\n",
    "def function():\n",
    "    print(x)\n",
    "    \n",
    "function()  # here, we are able to access variable from outside of the variable"
   ]
  },
  {
   "cell_type": "code",
   "execution_count": 38,
   "metadata": {},
   "outputs": [
    {
     "name": "stdout",
     "output_type": "stream",
     "text": [
      "78\n"
     ]
    }
   ],
   "source": [
    "x = 8956454.23\n",
    "\n",
    "def function():\n",
    "    x = 78\n",
    "    print(x)\n",
    "\n",
    "function()  # here, we are able to access the local variable"
   ]
  },
  {
   "cell_type": "markdown",
   "metadata": {},
   "source": [
    "### The Global Keyword\n",
    "\n",
    "* Normally, when you create a variable inside a function, that variable is local, and can only be used inside that function.\n",
    "\n",
    "* To create a global variable inside a function, you can use the global keyword."
   ]
  },
  {
   "cell_type": "code",
   "execution_count": 41,
   "metadata": {},
   "outputs": [
    {
     "name": "stdout",
     "output_type": "stream",
     "text": [
      "fantastic\n"
     ]
    }
   ],
   "source": [
    "def function():\n",
    "    global x\n",
    "    x = \"fantastic\"\n",
    "    print(x)\n",
    "\n",
    "function()"
   ]
  }
 ],
 "metadata": {
  "kernelspec": {
   "display_name": "Python 3",
   "language": "python",
   "name": "python3"
  },
  "language_info": {
   "codemirror_mode": {
    "name": "ipython",
    "version": 3
   },
   "file_extension": ".py",
   "mimetype": "text/x-python",
   "name": "python",
   "nbconvert_exporter": "python",
   "pygments_lexer": "ipython3",
   "version": "3.6.8"
  }
 },
 "nbformat": 4,
 "nbformat_minor": 4
}
