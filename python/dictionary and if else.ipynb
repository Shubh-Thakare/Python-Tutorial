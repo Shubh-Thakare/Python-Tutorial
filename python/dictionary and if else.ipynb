{
 "cells": [
  {
   "cell_type": "code",
   "execution_count": 8,
   "metadata": {},
   "outputs": [
    {
     "name": "stdout",
     "output_type": "stream",
     "text": [
      "nagpur\n"
     ]
    },
    {
     "data": {
      "text/plain": [
       "dict"
      ]
     },
     "execution_count": 8,
     "metadata": {},
     "output_type": "execute_result"
    }
   ],
   "source": [
    "a={\"shubham\":\"nagpur\",\"wasim\":\"pune\"}\n",
    "print(a[\"shubham\"])\n",
    "type(a)"
   ]
  },
  {
   "cell_type": "code",
   "execution_count": 16,
   "metadata": {},
   "outputs": [
    {
     "name": "stdout",
     "output_type": "stream",
     "text": [
      "enter anything:set\n",
      "collection of object\n"
     ]
    }
   ],
   "source": [
    "d={'set':'collection of object','nagpur':'orange city','nashik':'city of grapes','mumbai':'financial capital'}\n",
    "a=input(\"enter anything:\")\n",
    "print(d[a])"
   ]
  },
  {
   "cell_type": "code",
   "execution_count": 31,
   "metadata": {},
   "outputs": [
    {
     "name": "stdout",
     "output_type": "stream",
     "text": [
      "True\n",
      "False\n",
      "True\n",
      "yes\n"
     ]
    }
   ],
   "source": [
    "list=[5,6,7]\n",
    "print(5 in list)\n",
    "print(15 in list)\n",
    "print(15 not in list)\n",
    "if 5 in list:\n",
    "    print('yes')"
   ]
  },
  {
   "cell_type": "code",
   "execution_count": 34,
   "metadata": {},
   "outputs": [
    {
     "name": "stdout",
     "output_type": "stream",
     "text": [
      "enter your age:12\n",
      "you are not eligible\n"
     ]
    }
   ],
   "source": [
    "a=int(input(\"enter your age:\"))\n",
    "if a > 18:\n",
    "    print('you are eligible to drive')\n",
    "elif a==18:\n",
    "    print('you should come to office for examine')\n",
    "else:\n",
    "    print('you are not eligible')"
   ]
  },
  {
   "cell_type": "code",
   "execution_count": 1,
   "metadata": {},
   "outputs": [
    {
     "name": "stdout",
     "output_type": "stream",
     "text": [
      "enter first number:45\n",
      "enter operator:-\n",
      "enter second number:30\n",
      "15\n"
     ]
    }
   ],
   "source": [
    "a=int(input('enter first number:'))\n",
    "b=input('enter operator:')\n",
    "c=int(input('enter second number:'))\n",
    "if b == '+':\n",
    "    print(a+c)\n",
    "elif b == '*':\n",
    "    print(a*c)\n",
    "elif b == '/':\n",
    "    print(a/c)\n",
    "elif b == '-':\n",
    "    print(a-c)\n",
    "else:\n",
    "    print('enter valid number or operator')"
   ]
  }
 ],
 "metadata": {
  "kernelspec": {
   "display_name": "Python 3",
   "language": "python",
   "name": "python3"
  },
  "language_info": {
   "codemirror_mode": {
    "name": "ipython",
    "version": 3
   },
   "file_extension": ".py",
   "mimetype": "text/x-python",
   "name": "python",
   "nbconvert_exporter": "python",
   "pygments_lexer": "ipython3",
   "version": "3.8.5"
  }
 },
 "nbformat": 4,
 "nbformat_minor": 4
}
