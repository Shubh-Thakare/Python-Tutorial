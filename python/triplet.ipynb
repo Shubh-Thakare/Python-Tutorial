{
 "cells": [
  {
   "cell_type": "code",
   "execution_count": 2,
   "metadata": {},
   "outputs": [
    {
     "name": "stdout",
     "output_type": "stream",
     "text": [
      "enter three real no:\n",
      "\n",
      "45\n",
      "90\n",
      "50\n",
      "triplet form three sides of triangle\n",
      "acute angle triangle\n"
     ]
    }
   ],
   "source": [
    "print(\"enter three real no:\\n\")\n",
    "a=int(input())\n",
    "b=int(input())\n",
    "c=int(input())\n",
    "if((a+b)>c and (a+c)>b and (b+c)>a):\n",
    "    print('triplet form three sides of triangle')\n",
    "    if(((a**2)+(b**2))==(c**2)):\n",
    "        print(\"right angle triangle\")\n",
    "    elif(((a**2)+(b**2))<(c**2)):\n",
    "        print(\"obtuse angle triangle\")\n",
    "    elif(((a**2)+(b**2))>(c**2)):\n",
    "        print(\"acute angle triangle\")\n",
    "else:\n",
    "    print(\"invalid triangle\")"
   ]
  },
  {
   "cell_type": "code",
   "execution_count": 3,
   "metadata": {},
   "outputs": [
    {
     "name": "stdout",
     "output_type": "stream",
     "text": [
      "scalene triangle\n"
     ]
    }
   ],
   "source": [
    "if(a==b and b==c):\n",
    "    print(\"equilateral triangle\")\n",
    "elif(a==b or b==c or c==a):\n",
    "    print(\"isosceles triangle\")\n",
    "else:\n",
    "    print(\"scalene triangle\")"
   ]
  },
  {
   "cell_type": "code",
   "execution_count": 18,
   "metadata": {},
   "outputs": [
    {
     "name": "stdout",
     "output_type": "stream",
     "text": [
      "enter three real no:\n",
      "\n",
      "-852\n",
      "-74\n",
      "500\n",
      "acute angle triangle\n",
      "scalene triangle\n"
     ]
    }
   ],
   "source": [
    "print(\"enter three real no:\\n\")\n",
    "a=int(input())\n",
    "b=int(input())\n",
    "c=int(input())\n",
    "if((a+b)>c and (a+c)>b and (b+c)>a):\n",
    "    print(\"triplet form three sides of triangle\")\n",
    "elif(((a**2)+(b**2))==(c**2)):\n",
    "    print(\"right angle triangle\")\n",
    "elif(((a**2)+(b**2))<(c**2)):\n",
    "    print(\"obtuse angle triangle\")\n",
    "elif((a**2)+(b**2)>(c**2)):\n",
    "    print(\"acute angle triangle\")\n",
    "    if(a==b and b==c):\n",
    "        print(\"equilateral triangle\")\n",
    "    elif(a==b or b==c or c==a):\n",
    "        print(\"isosceles triangle\")\n",
    "    else:\n",
    "        print(\"scalene triangle\")\n",
    "else:\n",
    "    print(\"not form triangle\")"
   ]
  },
  {
   "cell_type": "code",
   "execution_count": null,
   "metadata": {},
   "outputs": [],
   "source": []
  }
 ],
 "metadata": {
  "kernelspec": {
   "display_name": "Python 3",
   "language": "python",
   "name": "python3"
  },
  "language_info": {
   "codemirror_mode": {
    "name": "ipython",
    "version": 3
   },
   "file_extension": ".py",
   "mimetype": "text/x-python",
   "name": "python",
   "nbconvert_exporter": "python",
   "pygments_lexer": "ipython3",
   "version": "3.8.5"
  }
 },
 "nbformat": 4,
 "nbformat_minor": 4
}
