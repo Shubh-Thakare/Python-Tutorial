{
 "cells": [
  {
   "cell_type": "code",
   "execution_count": 21,
   "metadata": {},
   "outputs": [
    {
     "name": "stdout",
     "output_type": "stream",
     "text": [
      "\n",
      "\n",
      "Hi your friends are below: \n",
      " ['ashok', 'bahul', 'Binesh', 'ganesh', 'mahesh', 'lala', 'dixit', 'dinu', 'utsav', 'dev']\n",
      "\n",
      "\n",
      "names is sorted form:\n",
      " ['Binesh', 'ashok', 'bahul', 'dev', 'dinu', 'dixit', 'ganesh', 'lala', 'mahesh', 'utsav']\n",
      "\n",
      "\n",
      "names which start with B or b \n",
      " ['Binesh', 'bahul']\n",
      "\n",
      "\n",
      "names which ending with A or a \n",
      " ['lala']\n"
     ]
    }
   ],
   "source": [
    "name=[\"ashok\",\"bahul\",\"Binesh\",\"ganesh\",\"mahesh\",\"lala\",\"dixit\",\"dinu\",\"utsav\",\"dev\"]\n",
    "#n=input(\"enter your friend name\")\n",
    "#for i in range(1,10):\n",
    " #n=input(\"enter your friend name \\t\")\n",
    " #name.append(n)\n",
    "#print(name)\n",
    "name2=[]\n",
    "name3=[]\n",
    "name4=[]\n",
    "name2=sorted(name)\n",
    "#print(name2)\n",
    "print(\"\\n\")\n",
    "\n",
    "for i in name2:\n",
    "    for j in range(len(i)):\n",
    "     if((i[0])==\"B\" or (i[0])==\"b\"):\n",
    "         #print(i)\n",
    "         name3.append(i)\n",
    "         break;\n",
    "         \n",
    "#print(name3)\n",
    "\n",
    "\n",
    "for i in name:\n",
    "    for j in range(len(i)):\n",
    "     if((i[-1])==\"A\" or (i[-1])==\"a\"):\n",
    "         #print(i)\n",
    "         name4.append(i)\n",
    "         break;\n",
    "         \n",
    "#print(name4)\n",
    "\n",
    "# print(\"================================output=============================\")\n",
    "\n",
    "print(\"Hi your friends are below: \\n\",name)\n",
    "print(\"\\n\")\n",
    "print(\"names is sorted form:\\n\" ,name2)\n",
    "print(\"\\n\")\n",
    "print(\"names which start with B or b \\n\",name3)\n",
    "print(\"\\n\")\n",
    "print(\"names which ending with A or a \\n\",name4)\n"
   ]
  },
  {
   "cell_type": "code",
   "execution_count": 22,
   "metadata": {},
   "outputs": [
    {
     "name": "stdout",
     "output_type": "stream",
     "text": [
      "numbers that are greater than 67 \n",
      " [967, 450, 392]\n",
      "the words that have more than 3 alphabets \n",
      " ['sleep', 'cannot', 'wake']\n"
     ]
    }
   ],
   "source": [
    "mylist=[[20,53,967,6,450, 20,392,1],[\"If\", \"I\" , \"go\", \"to\", \"sleep\", \"you\", \"cannot\",\"wake\", \"me\", \"up\"]]\n",
    "list2=[]\n",
    "list3=[]\n",
    "\n",
    "for i in mylist[0][0:]:\n",
    "    if i>67:\n",
    "        list2.append(i)\n",
    "\n",
    "print(\"numbers that are greater than 67 \\n\",list2)\n",
    "\n",
    "for i in mylist[1][0:]:\n",
    "    if len(i)>3:\n",
    "        list3.append(i)\n",
    "\n",
    "print(\"the words that have more than 3 alphabets \\n\",list3)"
   ]
  },
  {
   "cell_type": "code",
   "execution_count": null,
   "metadata": {},
   "outputs": [
    {
     "name": "stdout",
     "output_type": "stream",
     "text": [
      "original list is: \n",
      " [-20, -30, -10, -9, -11, 0, 40, 50, 60, 70, 80]\n"
     ]
    }
   ],
   "source": [
    "number=[-20,-30,-10,-9,-11,0,40,50,60,70,80]\n",
    "number2=[]\n",
    "\n",
    "print(\"original list is: \\n\",number)\n",
    "\n",
    "\n",
    "for i in number:\n",
    "    if i<-10:\n",
    "        number[number.index(i)]=i**2\n",
    "        number1=number\n",
    "        \n",
    "      \n",
    "    elif i<=0 and i>=-10:\n",
    "        number.append(100)\n",
    "        number2=number\n",
    "        \n",
    "      \n",
    "    elif i>0 and i<=50:\n",
    "        b=i\n",
    "        number2.append(b)\n",
    "        number3=number+number2\n",
    "        \n",
    "        \n",
    "    else:\n",
    "        #print(i)\n",
    "        number.remove(i)\n",
    "        number4=number\n",
    "        \n",
    "\n",
    "print(\"Answer of first condition\\n\",number1)\n",
    "print(\"Answer of 2nd condition\\n\",number2)\n",
    "print(\"Answer of 3rd condition\\n\",number3)\n",
    "print(\"Answer of last condition\\n\",number4)\n"
   ]
  },
  {
   "cell_type": "code",
   "execution_count": null,
   "metadata": {},
   "outputs": [],
   "source": [
    "L1=[]\n",
    "L2=[]\n",
    "L3=[]\n",
    "\n",
    "for i in range(1,50):\n",
    "    if (i%5==0)and(i%3!=0):\n",
    "        L1.append(i)\n",
    "        \n",
    "for j in range(1,50):\n",
    "    if j%7==0:\n",
    "        L2.append(j)\n",
    "        \n",
    "L3=L1+L2\n",
    "print(\"list of all natural numbers less than 50 that are divisible by 5 but not divisible by 3 \\n\",L1)\n",
    "print('\\n')\n",
    "print(\"list of all natural numbers that are less than 50 and divisible by 7\\n\",L2 )\n",
    "print('\\n')\n",
    "print(\"combined element output \\n\",L3)\n",
    "print('\\n')\n",
    "\n",
    "for i in L3:\n",
    "    c=L3.count(i)\n",
    "    #print(c)\n",
    "    if (c>1):\n",
    "         print(\"the number  which occured multiple times is\",i)"
   ]
  }
 ],
 "metadata": {
  "kernelspec": {
   "display_name": "Python 3",
   "language": "python",
   "name": "python3"
  },
  "language_info": {
   "codemirror_mode": {
    "name": "ipython",
    "version": 3
   },
   "file_extension": ".py",
   "mimetype": "text/x-python",
   "name": "python",
   "nbconvert_exporter": "python",
   "pygments_lexer": "ipython3",
   "version": "3.8.5"
  }
 },
 "nbformat": 4,
 "nbformat_minor": 4
}
