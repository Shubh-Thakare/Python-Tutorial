{
 "cells": [
  {
   "cell_type": "code",
   "execution_count": 8,
   "metadata": {},
   "outputs": [
    {
     "data": {
      "text/plain": [
       "4.7"
      ]
     },
     "execution_count": 8,
     "metadata": {},
     "output_type": "execute_result"
    }
   ],
   "source": [
    "def average_list(L):\n",
    "    sum=0\n",
    "    for i in L:\n",
    "        sum += i\n",
    "    avg=sum/len(L)\n",
    "    return avg\n",
    "    print(avg)\n",
    "\n",
    "L1=[4,5.6,3.2,6]\n",
    "average_list(L1)"
   ]
  },
  {
   "cell_type": "code",
   "execution_count": 9,
   "metadata": {},
   "outputs": [
    {
     "name": "stdout",
     "output_type": "stream",
     "text": [
      "5.0\n",
      "8.602325267042627\n"
     ]
    }
   ],
   "source": [
    "import math\n",
    "def hypotenus(a,b):\n",
    "    c=math.sqrt(a**2 + b**2)\n",
    "    return c\n",
    "print(hypotenus(3,4))\n",
    "print(hypotenus(5,7))"
   ]
  }
 ],
 "metadata": {
  "kernelspec": {
   "display_name": "Python 3",
   "language": "python",
   "name": "python3"
  },
  "language_info": {
   "codemirror_mode": {
    "name": "ipython",
    "version": 3
   },
   "file_extension": ".py",
   "mimetype": "text/x-python",
   "name": "python",
   "nbconvert_exporter": "python",
   "pygments_lexer": "ipython3",
   "version": "3.8.5"
  }
 },
 "nbformat": 4,
 "nbformat_minor": 4
}
