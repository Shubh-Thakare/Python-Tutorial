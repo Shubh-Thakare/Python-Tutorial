{
 "cells": [
  {
   "cell_type": "code",
   "execution_count": 31,
   "metadata": {},
   "outputs": [
    {
     "name": "stdout",
     "output_type": "stream",
     "text": [
      "1 , 2 , 3 , 4 , 5 , 6 , 7 , 8 , 9 , 10 , 11 , 12 , 13 , 14 , 15 , 16 , 17 , 18 , 19 , 20 , 21 , 22 , 23 , 24 , 25 , 26 , 27 , 28 , 29 , 30 , 31 , 32 , 33 , 34 , 35 , 36 , 37 , 38 , 39 , 40 , 41 , 42 , 43 , 44 , 45 , 46 , 47 , 48 , 49 , 50 , "
     ]
    }
   ],
   "source": [
    "# for printing output in single line\n",
    "a=0\n",
    "while a < 50:\n",
    "    a=a+1\n",
    "    print(a,end=' , ')"
   ]
  },
  {
   "cell_type": "code",
   "execution_count": 2,
   "metadata": {},
   "outputs": [
    {
     "name": "stdout",
     "output_type": "stream",
     "text": [
      "shubham\n",
      "thakare\n",
      "kas kay nagpur\n",
      "name: atom\n",
      "subject: python\n",
      "subject: computer science\n"
     ]
    }
   ],
   "source": [
    "fhand=open(\"shubh.txt\")\n",
    "for i in fhand:\n",
    "    i=i.rstrip()\n",
    "    print(i)"
   ]
  },
  {
   "cell_type": "code",
   "execution_count": 47,
   "metadata": {},
   "outputs": [
    {
     "name": "stdout",
     "output_type": "stream",
     "text": [
      "shubham\n",
      "thakare\n",
      "kas kay nagpur\n",
      "name: atom\n"
     ]
    }
   ],
   "source": [
    "# for skipping some character\n",
    "f=open('shubh.txt')\n",
    "for line in f:\n",
    "    line=line.rstrip()\n",
    "    if line.startswith(\"subject:\"):\n",
    "        continue\n",
    "    print(line) # else print character"
   ]
  },
  {
   "cell_type": "code",
   "execution_count": 1,
   "metadata": {},
   "outputs": [
    {
     "name": "stdout",
     "output_type": "stream",
     "text": [
      "enter file name:shubhya.txt\n",
      "count: 0\n"
     ]
    }
   ],
   "source": [
    "#to avoid traceback error\n",
    "\n",
    "fname=input('enter file name:')\n",
    "try:\n",
    "    fhand=open(fname)\n",
    "except:\n",
    "    print('file cannot be open:',fname)\n",
    "    quit()\n",
    "\n",
    "count=0\n",
    "for line in fhand:\n",
    "    if line.startswith(\"subject:\"):\n",
    "        count=count+1\n",
    "print('count:',count)"
   ]
  },
  {
   "cell_type": "code",
   "execution_count": 4,
   "metadata": {},
   "outputs": [
    {
     "data": {
      "text/plain": [
       "'shubham\\nthakare\\nkas kay nagpur\\nname: atom\\nsubject: algebra\\nsubject: computer science'"
      ]
     },
     "execution_count": 4,
     "metadata": {},
     "output_type": "execute_result"
    }
   ],
   "source": [
    "with open('shubh.txt','r') as file:\n",
    "    content=file.read()\n",
    "content.replace('python','algebra')"
   ]
  },
  {
   "cell_type": "code",
   "execution_count": 5,
   "metadata": {},
   "outputs": [
    {
     "data": {
      "text/plain": [
       "'I love the city. this city is pune.\\n'"
      ]
     },
     "execution_count": 5,
     "metadata": {},
     "output_type": "execute_result"
    }
   ],
   "source": [
    "#line by line reading\n",
    "\n",
    "with open('shubhya.txt','r') as file:\n",
    "    con=file. readline()\n",
    "con"
   ]
  },
  {
   "cell_type": "code",
   "execution_count": 4,
   "metadata": {},
   "outputs": [
    {
     "name": "stdout",
     "output_type": "stream",
     "text": [
      "I love the city. this city is pune.\n",
      "35\n",
      "['I', 'love', 'the', 'city.', 'this', 'city', 'is', 'pune.']\n",
      "the weather is awesome here.\n",
      "28\n",
      "['the', 'weather', 'is', 'awesome', 'here.']\n",
      "i like drinking in this weather.\n",
      "32\n",
      "['i', 'like', 'drinking', 'in', 'this', 'weather.']\n",
      "i drink more tea in this weather.\n",
      "33\n",
      "['i', 'drink', 'more', 'tea', 'in', 'this', 'weather.']\n"
     ]
    }
   ],
   "source": [
    "# list of all lines\n",
    "\n",
    "with open('shubhya.txt','r') as file:\n",
    "    content=file.readlines()\n",
    "for i in content:\n",
    "    i=i.rstrip()\n",
    "    print(i)\n",
    "    print(len(i))\n",
    "    print(i.split())"
   ]
  },
  {
   "cell_type": "code",
   "execution_count": 15,
   "metadata": {},
   "outputs": [
    {
     "data": {
      "text/plain": [
       "67"
      ]
     },
     "execution_count": 15,
     "metadata": {},
     "output_type": "execute_result"
    }
   ],
   "source": [
    "file=open('shubhya.txt')\n",
    "file.readline()\n",
    "file.tell()\n",
    "file.readline()\n",
    "file.tell()"
   ]
  },
  {
   "cell_type": "code",
   "execution_count": 3,
   "metadata": {},
   "outputs": [
    {
     "data": {
      "text/plain": [
       "<_io.TextIOWrapper name='hello.txt' mode='r' encoding='cp1252'>"
      ]
     },
     "execution_count": 3,
     "metadata": {},
     "output_type": "execute_result"
    }
   ],
   "source": [
    "with open('hello.txt','w') as file:\n",
    "    print('this is new file.',file=file)\n",
    "    print('this is next line.',file=file)"
   ]
  },
  {
   "cell_type": "code",
   "execution_count": 8,
   "metadata": {},
   "outputs": [
    {
     "data": {
      "text/plain": [
       "'this is new file.\\nthis is next line.\\n'"
      ]
     },
     "execution_count": 8,
     "metadata": {},
     "output_type": "execute_result"
    }
   ],
   "source": [
    "a=open('hello.txt')\n",
    "a.read()"
   ]
  },
  {
   "cell_type": "code",
   "execution_count": 5,
   "metadata": {},
   "outputs": [],
   "source": [
    "with open('job.txt','a') as file:\n",
    "    file.write('using write function')\n",
    "    file.write('we can print the whole content')\n",
    "    file.write('in a single line')"
   ]
  },
  {
   "cell_type": "code",
   "execution_count": 6,
   "metadata": {},
   "outputs": [
    {
     "ename": "FileNotFoundError",
     "evalue": "[Errno 2] No such file or directory: 'hello.txt'",
     "output_type": "error",
     "traceback": [
      "\u001b[1;31m---------------------------------------------------------------------------\u001b[0m",
      "\u001b[1;31mFileNotFoundError\u001b[0m                         Traceback (most recent call last)",
      "\u001b[1;32m<ipython-input-6-2371746181ce>\u001b[0m in \u001b[0;36m<module>\u001b[1;34m\u001b[0m\n\u001b[0;32m      1\u001b[0m \u001b[0mfilenames\u001b[0m\u001b[1;33m=\u001b[0m\u001b[1;33m[\u001b[0m\u001b[1;34m'shubh.txt'\u001b[0m\u001b[1;33m,\u001b[0m\u001b[1;34m'job.txt'\u001b[0m\u001b[1;33m,\u001b[0m\u001b[1;34m'hello.txt'\u001b[0m\u001b[1;33m]\u001b[0m\u001b[1;33m\u001b[0m\u001b[1;33m\u001b[0m\u001b[0m\n\u001b[0;32m      2\u001b[0m \u001b[1;32mfor\u001b[0m \u001b[0mfilename\u001b[0m \u001b[1;32min\u001b[0m \u001b[0mfilenames\u001b[0m\u001b[1;33m:\u001b[0m\u001b[1;33m\u001b[0m\u001b[1;33m\u001b[0m\u001b[0m\n\u001b[1;32m----> 3\u001b[1;33m     \u001b[1;32mwith\u001b[0m \u001b[0mopen\u001b[0m \u001b[1;33m(\u001b[0m\u001b[0mfilename\u001b[0m\u001b[1;33m,\u001b[0m\u001b[1;34m'r'\u001b[0m\u001b[1;33m)\u001b[0m\u001b[1;32mas\u001b[0m \u001b[0mf\u001b[0m\u001b[1;33m:\u001b[0m\u001b[1;33m\u001b[0m\u001b[1;33m\u001b[0m\u001b[0m\n\u001b[0m\u001b[0;32m      4\u001b[0m         \u001b[0mf\u001b[0m\u001b[1;33m.\u001b[0m\u001b[0mreadlines\u001b[0m\u001b[1;33m(\u001b[0m\u001b[1;33m)\u001b[0m\u001b[1;33m[\u001b[0m\u001b[1;33m-\u001b[0m\u001b[1;36m1\u001b[0m\u001b[1;33m]\u001b[0m\u001b[1;33m.\u001b[0m\u001b[0msplit\u001b[0m\u001b[1;33m(\u001b[0m\u001b[1;33m)\u001b[0m\u001b[1;33m\u001b[0m\u001b[1;33m\u001b[0m\u001b[0m\n",
      "\u001b[1;31mFileNotFoundError\u001b[0m: [Errno 2] No such file or directory: 'hello.txt'"
     ]
    }
   ],
   "source": [
    "filenames=['shubh.txt','job.txt','hello.txt']\n",
    "for filename in filenames:\n",
    "    with open (filename,'r')as f:\n",
    "        f.readlines()[-1].split()"
   ]
  },
  {
   "cell_type": "code",
   "execution_count": 46,
   "metadata": {},
   "outputs": [
    {
     "name": "stdout",
     "output_type": "stream",
     "text": [
      "In mathematics, the dot product or scalar product is an algebraic operation that takes two\n",
      "\n",
      "equal-length sequences of numbers (usually coordinate vectors), and returns a single number.\n",
      "\n",
      "It is often called \"the\" inner product (or rarely projection product) of Euclidean space, even\n",
      "\n",
      "though it is not the only inner product that can be defined on Euclidean space (see Inner product\n",
      "\n",
      "root of the dot product of the vector by itself) and angles (the cosine of the angle of two vectors is\n",
      "\n"
     ]
    }
   ],
   "source": [
    "longest_line=0\n",
    "with open('file.txt','r') as file:\n",
    "    content=file.readlines()\n",
    "for i in content:\n",
    "    if len(i) > (longest_line):\n",
    "        longest_line=len(i)\n",
    "        print(i)"
   ]
  },
  {
   "cell_type": "code",
   "execution_count": 32,
   "metadata": {},
   "outputs": [
    {
     "name": "stdout",
     "output_type": "stream",
     "text": [
      "longest line from the file is = root of the dot product of the vector by itself) and angles (the cosine of the angle of two vectors is\n",
      "\n",
      " the lenght of the longest line is=  103\n"
     ]
    }
   ],
   "source": [
    "with open ('file.txt ','r')as file:\n",
    "    text_data=file.readlines()\n",
    "    max_lenth=max(text_data,key=len)\n",
    "    print(\"longest line from the file is =\", max_lenth) \n",
    "    print(\" the lenght of the longest line is= \", len(max_lenth))\n",
    "    "
   ]
  },
  {
   "cell_type": "code",
   "execution_count": 49,
   "metadata": {},
   "outputs": [
    {
     "name": "stdout",
     "output_type": "stream",
     "text": [
      "enter team member namekl\n"
     ]
    },
    {
     "ename": "NameError",
     "evalue": "name 'fil' is not defined",
     "output_type": "error",
     "traceback": [
      "\u001b[1;31m---------------------------------------------------------------------------\u001b[0m",
      "\u001b[1;31mNameError\u001b[0m                                 Traceback (most recent call last)",
      "\u001b[1;32m<ipython-input-49-76bddea8fe1e>\u001b[0m in \u001b[0;36m<module>\u001b[1;34m\u001b[0m\n\u001b[0;32m      2\u001b[0m     \u001b[1;32mfor\u001b[0m \u001b[0mi\u001b[0m \u001b[1;32min\u001b[0m \u001b[0mrange\u001b[0m \u001b[1;33m(\u001b[0m\u001b[1;36m8\u001b[0m\u001b[1;33m)\u001b[0m\u001b[1;33m:\u001b[0m\u001b[1;33m\u001b[0m\u001b[1;33m\u001b[0m\u001b[0m\n\u001b[0;32m      3\u001b[0m         \u001b[0mname\u001b[0m\u001b[1;33m=\u001b[0m\u001b[0minput\u001b[0m\u001b[1;33m(\u001b[0m\u001b[1;34m\"enter team member name\"\u001b[0m\u001b[1;33m)\u001b[0m\u001b[1;33m\u001b[0m\u001b[1;33m\u001b[0m\u001b[0m\n\u001b[1;32m----> 4\u001b[1;33m         \u001b[0mfil\u001b[0m\u001b[1;33m.\u001b[0m\u001b[0mwrite\u001b[0m\u001b[1;33m(\u001b[0m\u001b[0mname\u001b[0m \u001b[1;33m+\u001b[0m \u001b[1;34m\"\\n\"\u001b[0m\u001b[1;33m)\u001b[0m\u001b[1;33m\u001b[0m\u001b[1;33m\u001b[0m\u001b[0m\n\u001b[0m\u001b[0;32m      5\u001b[0m \u001b[1;33m\u001b[0m\u001b[0m\n\u001b[0;32m      6\u001b[0m \u001b[0mf\u001b[0m \u001b[1;33m=\u001b[0m \u001b[0mopen\u001b[0m\u001b[1;33m(\u001b[0m\u001b[1;34m\"team.txt\"\u001b[0m\u001b[1;33m,\u001b[0m \u001b[1;34m\"r\"\u001b[0m\u001b[1;33m)\u001b[0m\u001b[1;33m\u001b[0m\u001b[1;33m\u001b[0m\u001b[0m\n",
      "\u001b[1;31mNameError\u001b[0m: name 'fil' is not defined"
     ]
    }
   ],
   "source": [
    "with open(\"team.txt\",\"w\") as file:\n",
    "    for i in range (8):\n",
    "        name=input(\"enter team member name\")\n",
    "        fil.write(name + \"\\n\")\n",
    "\n",
    "f = open(\"team.txt\", \"r\")\n",
    "print(f.read()) "
   ]
  },
  {
   "cell_type": "code",
   "execution_count": 68,
   "metadata": {},
   "outputs": [
    {
     "name": "stdout",
     "output_type": "stream",
     "text": [
      "enter team member nameayushma\n",
      "enter team member nameshon\n",
      "enter team member nameaarushi\n",
      "enter team member namesanvi\n",
      "enter team member nameshreeja\n",
      "enter team member nameakash\n",
      "enter team member namerajju\n",
      "enter team member namepriya\n",
      "enter team member nameajay\n",
      "captain : shubham\n",
      "vice-captain : shubhya\n",
      "ayushma\n",
      "shon\n",
      "aarushi\n",
      "sanvi\n",
      "shreeja\n",
      "akash\n",
      "rajju\n",
      "priya\n",
      "ajay\n",
      "\n"
     ]
    }
   ],
   "source": [
    "count=0\n",
    "file=open('team.txt','w')\n",
    "file.write('captain : shubham\\nvice-captain : shubhya\\n')\n",
    "while count<9:\n",
    "    name=input('enter team member name')\n",
    "    with open('team.txt','a') as file:\n",
    "        file.writelines(name + '\\n')\n",
    "    count=count+1\n",
    "\n",
    "f=open('team.txt','r')\n",
    "print(f.read())\n",
    "    "
   ]
  },
  {
   "cell_type": "code",
   "execution_count": 10,
   "metadata": {},
   "outputs": [
    {
     "name": "stdout",
     "output_type": "stream",
     "text": [
      "[(7, 'the'), (4, 'and'), (2, 'tent'), (2, 'ran'), (2, 'python'), (2, 'perfect'), (2, 'clown'), (2, 'car'), (1, 'very'), (1, 'us'), (1, 'on'), (1, 'makes'), (1, 'is'), (1, 'into'), (1, 'in'), (1, 'important.'), (1, 'fell'), (1, 'down'), (1, 'car.'), (1, 'after'), (1, 'Studying'), (1, 'Plan'), (1, 'Machine'), (1, 'Learning'), (1, 'B')]\n"
     ]
    }
   ],
   "source": [
    "count=dict()\n",
    "fhand=open('job.txt')\n",
    "fh=fhand.read()\n",
    "etc=fh.split()\n",
    "for i in etc:\n",
    "    count[i]=count.get(i,0)+1\n",
    "tmp=list()\n",
    "for k,v in count.items():\n",
    "    tmp.append((v,k))\n",
    "tmp=sorted(tmp,reverse=True)\n",
    "print(tmp)"
   ]
  },
  {
   "cell_type": "code",
   "execution_count": 11,
   "metadata": {},
   "outputs": [
    {
     "name": "stdout",
     "output_type": "stream",
     "text": [
      "the 7\n",
      "and 4\n",
      "tent 2\n",
      "ran 2\n",
      "python 2\n"
     ]
    }
   ],
   "source": [
    "hand = open('job.txt')\n",
    "\n",
    "di = dict()\n",
    "for lin in hand:\n",
    "    lin = lin.rstrip()\n",
    "    wds = lin.split()\n",
    "    for w in wds:\n",
    "        di[w] = di.get(w,0) + 1\n",
    "\n",
    "tmp = list()\n",
    "for k,v in di.items() :\n",
    "    newt = (v,k)\n",
    "    tmp.append(newt)\n",
    "\n",
    "tmp = sorted(tmp, reverse=True)\n",
    "\n",
    "for v,k in tmp[:5] :\n",
    "    print(k,v)"
   ]
  }
 ],
 "metadata": {
  "kernelspec": {
   "display_name": "Python 3",
   "language": "python",
   "name": "python3"
  },
  "language_info": {
   "codemirror_mode": {
    "name": "ipython",
    "version": 3
   },
   "file_extension": ".py",
   "mimetype": "text/x-python",
   "name": "python",
   "nbconvert_exporter": "python",
   "pygments_lexer": "ipython3",
   "version": "3.8.5"
  }
 },
 "nbformat": 4,
 "nbformat_minor": 4
}
