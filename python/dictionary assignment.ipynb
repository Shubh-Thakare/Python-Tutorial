{
 "cells": [
  {
   "cell_type": "code",
   "execution_count": 13,
   "metadata": {},
   "outputs": [
    {
     "name": "stdout",
     "output_type": "stream",
     "text": [
      "None\n"
     ]
    }
   ],
   "source": [
    "# Que. 1\n",
    "\n",
    "D={'a':1,'b':4,'c':9}\n",
    "x=(D.get('d'))\n",
    "print(x)\n",
    "\n",
    "#In standard command when we fetch the value corresponding to the key 'd' (which is not in the dictionary) we get \n",
    "#error but when try the same thing using the `get' method (D.get('d')) we get None."
   ]
  },
  {
   "cell_type": "code",
   "execution_count": 37,
   "metadata": {},
   "outputs": [
    {
     "data": {
      "text/plain": [
       "{' ', 'a', 'b', 'e', 'h', 'k', 'm', 'r', 's', 't', 'u'}"
      ]
     },
     "execution_count": 37,
     "metadata": {},
     "output_type": "execute_result"
    }
   ],
   "source": [
    "# Que. 2\n",
    "\n",
    "name=\"shubham thakare\"\n",
    "set(name)\n",
    "\n",
    "#the character strings in the output are alphabets with space"
   ]
  },
  {
   "cell_type": "code",
   "execution_count": 2,
   "metadata": {},
   "outputs": [
    {
     "name": "stdout",
     "output_type": "stream",
     "text": [
      "{'Geometry', 'Mechanics', 'Real Analysis', 'Complex analysis', 'Calculus', 'Optics', 'Number theory'}\n"
     ]
    }
   ],
   "source": [
    "# Que. 3 (1)\n",
    "\n",
    "math={'Newton':{'Calculus', 'Mechanics', 'Optics'}, 'Gauss' : {'Number theory', 'Mechanics', 'Optics', 'Geometry', 'Calculus', 'Complex analysis'}, 'Weierstrass' : {'Real Analysis'}, 'Cauchy' : {'Real Analysis', 'Mechanics', 'Number theory', 'Complex analysis'}} \n",
    "phi=set()\n",
    "for val in math.values():\n",
    "    phi.update(val)\n",
    "print(phi)\n",
    "\n",
    "# second method\n",
    "math['Newton'] | math['Gauss'] | math['Weierstrass'] | math['Cauchy']"
   ]
  },
  {
   "cell_type": "code",
   "execution_count": 29,
   "metadata": {},
   "outputs": [
    {
     "data": {
      "text/plain": [
       "{'Complex analysis', 'Mechanics', 'Number theory'}"
      ]
     },
     "execution_count": 29,
     "metadata": {},
     "output_type": "execute_result"
    }
   ],
   "source": [
    "# Que. 3 (2)\n",
    "\n",
    "math['Gauss'] & math['Cauchy']"
   ]
  },
  {
   "cell_type": "code",
   "execution_count": 33,
   "metadata": {},
   "outputs": [
    {
     "data": {
      "text/plain": [
       "{'Calculus', 'Optics'}"
      ]
     },
     "execution_count": 33,
     "metadata": {},
     "output_type": "execute_result"
    }
   ],
   "source": [
    "# Que. 3 (3)\n",
    "(math['Newton'] & math['Gauss'])-math['Cauchy']"
   ]
  },
  {
   "cell_type": "code",
   "execution_count": 34,
   "metadata": {},
   "outputs": [
    {
     "data": {
      "text/plain": [
       "{'Calculus', 'Mechanics', 'Optics', 'Real Analysis'}"
      ]
     },
     "execution_count": 34,
     "metadata": {},
     "output_type": "execute_result"
    }
   ],
   "source": [
    "# Que. 3 (4)\n",
    "\n",
    "math['Newton'] | math['Weierstrass']"
   ]
  },
  {
   "cell_type": "code",
   "execution_count": 5,
   "metadata": {},
   "outputs": [
    {
     "name": "stdout",
     "output_type": "stream",
     "text": [
      "{8}\n"
     ]
    }
   ],
   "source": [
    "'''Mr. Aakash is the manager at the star hotel. The hotel has an infinite amount of rooms. One fine day, a finite number \n",
    "of tourists come to stay at the hotel. The tourists consist of: → A Captain. → An unknown number of member The Captain \n",
    "was given a separate room, and the rest were given one room per member Mr. Aakash has an unordered list of randomly \n",
    "arranged room entries. The list consists of the room numbers for all of the tourists. The room numbers will appear many \n",
    "times in list for members except the Captains room will appear only once in list. Mr. Aakash needs you to help him find \n",
    "the Captains room number.let room number be : 1 2 3 6 5 4 4 2 5 3 6 1 6 5 3 2 4 1 2 5 1 4 3 6 8 4 3 1 5 6 2'''\n",
    "\n",
    "l1=[1 ,2, 3, 6, 5, 4, 4, 2, 5, 3, 6, 1, 6, 5, 3, 2, 4, 1, 2, 5, 1, 4, 3, 6, 8, 4, 3, 1,5 ,6, 2 ]\n",
    "set1 = set()\n",
    "set2 = set()\n",
    "for room in l1:\n",
    "    if room not in set1:\n",
    "        set1.add(room)\n",
    "    else:\n",
    "        set2.add(room)\n",
    "s=set1 ^ set2\n",
    "print(s)\n"
   ]
  }
 ],
 "metadata": {
  "kernelspec": {
   "display_name": "Python 3",
   "language": "python",
   "name": "python3"
  },
  "language_info": {
   "codemirror_mode": {
    "name": "ipython",
    "version": 3
   },
   "file_extension": ".py",
   "mimetype": "text/x-python",
   "name": "python",
   "nbconvert_exporter": "python",
   "pygments_lexer": "ipython3",
   "version": "3.8.5"
  }
 },
 "nbformat": 4,
 "nbformat_minor": 4
}
