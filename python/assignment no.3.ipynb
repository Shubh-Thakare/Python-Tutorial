{
 "cells": [
  {
   "cell_type": "code",
   "execution_count": 1,
   "metadata": {},
   "outputs": [
    {
     "name": "stdout",
     "output_type": "stream",
     "text": [
      "enter first number:23\n",
      "enter second number:13\n",
      "value of GCD is 1\n"
     ]
    }
   ],
   "source": [
    "a=int(input(\"enter first number:\"))\n",
    "b=int(input(\"enter second number:\"))\n",
    "if b>a:\n",
    "    mn=a\n",
    "else:\n",
    "    mn=b\n",
    "for i in range(1 , mn+1):\n",
    "    if a % i ==0 and b % i ==0:\n",
    "        gcd=i\n",
    "print(\"value of GCD is\",gcd)"
   ]
  },
  {
   "cell_type": "code",
   "execution_count": 6,
   "metadata": {},
   "outputs": [
    {
     "name": "stdout",
     "output_type": "stream",
     "text": [
      "enter number of prime numbers:5\n",
      "from which number you require prime number:34\n",
      "37\n",
      "41\n",
      "43\n",
      "47\n",
      "53\n"
     ]
    }
   ],
   "source": [
    "a=int(input(\"enter number of prime numbers:\"))\n",
    "b=int(input(\"from which number you require prime number:\"))\n",
    "count=0\n",
    "for num in range(b,b+100):\n",
    "    if num > 1:\n",
    "        for i in range(2,num):\n",
    "            if num % i==0:\n",
    "                break\n",
    "        else:\n",
    "            print(num)\n",
    "            count=count+1\n",
    "            if count==a:\n",
    "                break\n"
   ]
  }
 ],
 "metadata": {
  "kernelspec": {
   "display_name": "Python 3",
   "language": "python",
   "name": "python3"
  },
  "language_info": {
   "codemirror_mode": {
    "name": "ipython",
    "version": 3
   },
   "file_extension": ".py",
   "mimetype": "text/x-python",
   "name": "python",
   "nbconvert_exporter": "python",
   "pygments_lexer": "ipython3",
   "version": "3.8.5"
  }
 },
 "nbformat": 4,
 "nbformat_minor": 4
}
