{
 "cells": [
  {
   "cell_type": "code",
   "execution_count": 11,
   "metadata": {},
   "outputs": [
    {
     "name": "stdout",
     "output_type": "stream",
     "text": [
      "False\n",
      "oh yess\n"
     ]
    }
   ],
   "source": [
    "a=[1,2,3]\n",
    "print(3 not in a)\n",
    "if 3 in a:\n",
    "    print(\"oh yess\")\n"
   ]
  },
  {
   "cell_type": "code",
   "execution_count": 22,
   "metadata": {},
   "outputs": [
    {
     "name": "stdout",
     "output_type": "stream",
     "text": [
      "what is your age?18\n",
      "we will think\n"
     ]
    }
   ],
   "source": [
    "age=int(input(\"what is your age?\"))\n",
    "if 7 < age < 100:\n",
    "    if age < 18 :\n",
    "        print(\"not eligible\")\n",
    "    elif age == 18:\n",
    "        print(\"we will think\")\n",
    "    else:\n",
    "        print(\"you are eligible\")\n",
    "else:\n",
    "    print(\"invalid age\")"
   ]
  },
  {
   "cell_type": "code",
   "execution_count": 24,
   "metadata": {},
   "outputs": [
    {
     "name": "stdout",
     "output_type": "stream",
     "text": [
      "shubh age is: 25\n",
      "sam age is: 23\n",
      "ram age is: 22\n"
     ]
    }
   ],
   "source": [
    "list=[['shubh',25],['sam',23],['ram',22]]\n",
    "for name,age in list:\n",
    "    print(name,\"age is:\",age)"
   ]
  },
  {
   "cell_type": "code",
   "execution_count": 28,
   "metadata": {},
   "outputs": [
    {
     "name": "stdout",
     "output_type": "stream",
     "text": [
      "enter a number:34\n",
      "try again\n",
      "enter a number:53\n",
      "try again\n",
      "enter a number:25\n",
      "try again\n",
      "enter a number:233\n",
      "congratulations\n"
     ]
    }
   ],
   "source": [
    "while True:\n",
    "    a=int(input(\"enter a number:\"))\n",
    "    if a>=100:\n",
    "        print(\"congratulations\")\n",
    "        break\n",
    "    else:\n",
    "        print(\"try again\")\n",
    "        continue"
   ]
  },
  {
   "cell_type": "markdown",
   "metadata": {},
   "source": [
    "# Tutorial: guess a number"
   ]
  },
  {
   "cell_type": "code",
   "execution_count": 6,
   "metadata": {},
   "outputs": [
    {
     "name": "stdout",
     "output_type": "stream",
     "text": [
      "enter a number:34\n",
      "decrease number\n",
      "no of guesses left: 8\n",
      "enter a number:20\n",
      "decrease number\n",
      "no of guesses left: 7\n",
      "enter a number:18\n",
      "you guess correct answer\n"
     ]
    }
   ],
   "source": [
    "# you have 9 chance and you have to guess number which is n\n",
    "n=18\n",
    "count=0\n",
    "while True:\n",
    "    a=int(input(\"enter a number:\"))\n",
    "    if a < n:\n",
    "        print(\"increase a number\")\n",
    "    elif a > n:\n",
    "        print(\"decrease number\")\n",
    "    elif a==n:\n",
    "        print('you guess correct answer')\n",
    "        break\n",
    "    count=count+1\n",
    "    print(\"no of guesses left:\",9-count)\n",
    "    if count==9:\n",
    "        print(\"game over\")\n",
    "        break"
   ]
  },
  {
   "cell_type": "code",
   "execution_count": 3,
   "metadata": {},
   "outputs": [
    {
     "name": "stdout",
     "output_type": "stream",
     "text": [
      "1\n",
      "2\n",
      "3\n"
     ]
    }
   ],
   "source": [
    "x,y,z=1,2,3\n",
    "print(x)\n",
    "print(y)\n",
    "print(z)"
   ]
  },
  {
   "cell_type": "code",
   "execution_count": 5,
   "metadata": {},
   "outputs": [
    {
     "data": {
      "text/plain": [
       "'orange'"
      ]
     },
     "execution_count": 5,
     "metadata": {},
     "output_type": "execute_result"
    }
   ],
   "source": [
    "x=y=z='orange'\n",
    "x"
   ]
  }
 ],
 "metadata": {
  "kernelspec": {
   "display_name": "Python 3",
   "language": "python",
   "name": "python3"
  },
  "language_info": {
   "codemirror_mode": {
    "name": "ipython",
    "version": 3
   },
   "file_extension": ".py",
   "mimetype": "text/x-python",
   "name": "python",
   "nbconvert_exporter": "python",
   "pygments_lexer": "ipython3",
   "version": "3.8.5"
  }
 },
 "nbformat": 4,
 "nbformat_minor": 4
}
