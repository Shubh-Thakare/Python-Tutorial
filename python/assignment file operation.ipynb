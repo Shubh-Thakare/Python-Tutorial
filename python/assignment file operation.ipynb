{
 "cells": [
  {
   "cell_type": "code",
   "execution_count": null,
   "metadata": {},
   "outputs": [],
   "source": [
    "longest_line=0\n",
    "with open('file.txt','r') as file:\n",
    "    content=file.readlines()\n",
    "for i in content:\n",
    "    if len(i) > (longest_line):\n",
    "        longest_line=len(i)\n",
    "        print(i)"
   ]
  },
  {
   "cell_type": "code",
   "execution_count": null,
   "metadata": {},
   "outputs": [],
   "source": [
    "with open ('file.txt ','r')as file:\n",
    "    text_data=file.readlines()\n",
    "    max_lenth=max(text_data,key=len)\n",
    "    print(\"longest line from the file is =\", max_lenth) \n",
    "    print(\" the lenght of the longest line is= \", len(max_lenth))"
   ]
  },
  {
   "cell_type": "code",
   "execution_count": null,
   "metadata": {},
   "outputs": [],
   "source": [
    "count=0\n",
    "file=open('team.txt','w')\n",
    "file.write('captain : shubham\\nvice-captain : shubhya\\n')\n",
    "while count<9:\n",
    "    name=input('enter team member name')\n",
    "    with open('team.txt','a') as file:\n",
    "        file.writelines(name + '\\n')\n",
    "    count=count+1\n",
    "\n",
    "f=open('team.txt','r')\n",
    "print(f.read())"
   ]
  }
 ],
 "metadata": {
  "kernelspec": {
   "display_name": "Python 3",
   "language": "python",
   "name": "python3"
  },
  "language_info": {
   "codemirror_mode": {
    "name": "ipython",
    "version": 3
   },
   "file_extension": ".py",
   "mimetype": "text/x-python",
   "name": "python",
   "nbconvert_exporter": "python",
   "pygments_lexer": "ipython3",
   "version": "3.8.5"
  }
 },
 "nbformat": 4,
 "nbformat_minor": 4
}
