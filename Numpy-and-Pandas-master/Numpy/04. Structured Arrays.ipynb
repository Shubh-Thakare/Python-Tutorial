{
 "cells": [
  {
   "cell_type": "markdown",
   "metadata": {},
   "source": [
    "### Structured arrays are n dimensional arrays whose datatype is a composition of simpler datatypes organized as a sequence of named fields\n"
   ]
  },
  {
   "cell_type": "code",
   "execution_count": 1,
   "metadata": {},
   "outputs": [],
   "source": [
    "import numpy as np"
   ]
  },
  {
   "cell_type": "code",
   "execution_count": 7,
   "metadata": {},
   "outputs": [],
   "source": [
    " x = np.array([('Sita', 39, 51.8), ('Gita', 23, 47.5)],\n",
    "            dtype=[('name', 'U10'), ('age', 'i4'), ('weight', 'f4')])"
   ]
  },
  {
   "cell_type": "markdown",
   "metadata": {},
   "source": [
    "\n",
    "#### Here x is a one-dimensional array of length two whose datatype is a structure with three fields:\n",
    "\n",
    "* 1. A string of length 10 or less named ‘name’, \n",
    "\n",
    "* 2. a 32-bit integer named ‘age’,\n",
    "\n",
    "* 3. a 32-bit float named ‘weight’."
   ]
  },
  {
   "cell_type": "code",
   "execution_count": 8,
   "metadata": {},
   "outputs": [
    {
     "name": "stdout",
     "output_type": "stream",
     "text": [
      "[('Sita', 39, 51.8) ('Gita', 23, 47.5)]\n"
     ]
    }
   ],
   "source": [
    "# let's print x(structured array)\n",
    "\n",
    "print(x)"
   ]
  },
  {
   "cell_type": "code",
   "execution_count": 11,
   "metadata": {},
   "outputs": [
    {
     "name": "stdout",
     "output_type": "stream",
     "text": [
      "('Gita', 23, 47.5)\n",
      "('Sita', 39, 51.8)\n"
     ]
    }
   ],
   "source": [
    "# let's do some indexing\n",
    "\n",
    "print(x[1])\n",
    "print(x[0])"
   ]
  },
  {
   "cell_type": "code",
   "execution_count": 14,
   "metadata": {},
   "outputs": [
    {
     "name": "stdout",
     "output_type": "stream",
     "text": [
      "[39 23]\n",
      "['Sita' 'Gita']\n",
      "[51.8 47.5]\n"
     ]
    }
   ],
   "source": [
    "# let's try to access according to the fields\n",
    "\n",
    "print(x['age'])\n",
    "print(x['name'])\n",
    "print(x['weight'])"
   ]
  },
  {
   "cell_type": "code",
   "execution_count": 17,
   "metadata": {},
   "outputs": [
    {
     "name": "stdout",
     "output_type": "stream",
     "text": [
      "[19 74]\n"
     ]
    }
   ],
   "source": [
    "# let's try to modify the values using the fields\n",
    "\n",
    "x['age'] = [19, 74]\n",
    "print(x['age'])"
   ]
  }
 ],
 "metadata": {
  "kernelspec": {
   "display_name": "Python 3",
   "language": "python",
   "name": "python3"
  },
  "language_info": {
   "codemirror_mode": {
    "name": "ipython",
    "version": 3
   },
   "file_extension": ".py",
   "mimetype": "text/x-python",
   "name": "python",
   "nbconvert_exporter": "python",
   "pygments_lexer": "ipython3",
   "version": "3.6.8"
  }
 },
 "nbformat": 4,
 "nbformat_minor": 4
}
