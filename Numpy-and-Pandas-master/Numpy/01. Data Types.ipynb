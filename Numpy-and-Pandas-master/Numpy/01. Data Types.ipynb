{
 "cells": [
  {
   "cell_type": "markdown",
   "metadata": {},
   "source": [
    "## Array Types and Conversions between Types\n",
    "\n",
    "**Numpy Supports a greater Variety of Data Types in Comparison to Python**"
   ]
  },
  {
   "cell_type": "markdown",
   "metadata": {},
   "source": [
    "### Primitive Types"
   ]
  },
  {
   "cell_type": "markdown",
   "metadata": {},
   "source": [
    "<table style=\"width:50%; font-size: 17px; background-color: lightblue; color: black\n",
    "              ; border-spacing: 5px; border: 2px solid black\">\n",
    "    <tr>\n",
    "    <th>Numpy Type</th>\n",
    "    <th>C Type</th>\n",
    "    </tr>\n",
    "    <tr>\n",
    "        <td>np.bool</td>\n",
    "        <td>bool</td>\n",
    "    </tr>\n",
    "        <tr>\n",
    "        <td>np.byte</td>\n",
    "        <td>Signed Char</td>\n",
    "    </tr>\n",
    "        <tr>\n",
    "        <td>np.ubyte</td>\n",
    "        <td>Unsigned Char</td>\n",
    "    </tr>\n",
    "        <tr>\n",
    "        <td>np.short</td>\n",
    "        <td>short</td>\n",
    "    </tr>\n",
    "        <tr>\n",
    "        <td>np.ushort</td>\n",
    "        <td>unsigned short</td>\n",
    "    </tr>\n",
    "        <tr>\n",
    "        <td>np.intc</td>\n",
    "        <td>int</td>\n",
    "    </tr>\n",
    "        <tr>\n",
    "        <td>np.uintc</td>\n",
    "        <td>unsigned int</td>\n",
    "    </tr>\n",
    "        <tr>\n",
    "        <td>np.int_</td>\n",
    "        <td>long</td>\n",
    "    </tr>\n",
    "        <tr>\n",
    "        <td>np.uint</td>\n",
    "        <td>unsigned long</td>\n",
    "    </tr>\n",
    "        <tr>\n",
    "        <td>np.longlong</td>\n",
    "        <td>long long</td>\n",
    "    </tr>\n",
    "    <tr>\n",
    "        <td>np.ulonglong</td>\n",
    "        <td>unsigned long long</td>\n",
    "    </tr>\n",
    "        <tr>\n",
    "        <td>np.half / np.float16</td>\n",
    "        <td>Half Precision Float</td>\n",
    "    </tr>\n",
    "        <tr>\n",
    "        <td>np.single</td>\n",
    "        <td>float</td>\n",
    "    </tr>\n",
    "        <tr>\n",
    "        <td>np.double</td>\n",
    "        <td>double</td>\n",
    "    </tr>\n",
    "        <tr>\n",
    "        <td>np.longdouble</td>\n",
    "        <td>long double</td>\n",
    "    </tr>\n",
    "        <tr>\n",
    "        <td>np.csingle</td>\n",
    "        <td>float complex</td>\n",
    "    </tr>\n",
    "      <tr>\n",
    "        <td>np.cdouble</td>\n",
    "        <td>double complex</td>\n",
    "    </tr>\n",
    "   <tr>\n",
    "        <td>np.clongdouble</td>\n",
    "        <td>long double complex</td>\n",
    "    </tr>\n",
    "</table>\n",
    "  "
   ]
  },
  {
   "cell_type": "markdown",
   "metadata": {},
   "source": [
    "### Fixed Size Aliases"
   ]
  },
  {
   "cell_type": "markdown",
   "metadata": {},
   "source": [
    "<table style=\"width:50%; font-size: 17px; background-color: lightblue; color: black\n",
    "              ; border-spacing: 5px; border: 2px solid black\">\n",
    "    <tr>\n",
    "    <th>Numpy Type</th>\n",
    "    <th>C Type</th>\n",
    "    </tr>\n",
    "    <tr>\n",
    "        <td>np.int8</td>\n",
    "        <td>int8_t</td>\n",
    "    </tr>\n",
    "        <tr>\n",
    "        <td>np.int16</td>\n",
    "        <td>int16_t</td>\n",
    "    </tr>\n",
    "        <tr>\n",
    "        <td>np.int32</td>\n",
    "        <td>int32_t</td>\n",
    "    </tr>\n",
    "        <tr>\n",
    "        <td>np.int64</td>\n",
    "        <td>int64_t</td>\n",
    "    </tr>\n",
    "        <tr>\n",
    "        <td>np.uint8</td>\n",
    "        <td>uint8_t</td>\n",
    "    </tr>\n",
    "        <tr>\n",
    "        <td>np.uint16</td>\n",
    "        <td>uint16_t</td>\n",
    "    </tr>\n",
    "        <tr>\n",
    "        <td>np.uint32</td>\n",
    "        <td>uint32_t</td>\n",
    "    </tr>\n",
    "        <tr>\n",
    "        <td>np.uint64</td>\n",
    "        <td>uint64_t</td>\n",
    "    </tr>\n",
    "        <tr>\n",
    "        <td>np.intp</td>\n",
    "        <td>intptr_t</td>\n",
    "    </tr>\n",
    "        <tr>\n",
    "        <td>np.uintp</td>\n",
    "        <td>uintptr_t</td>\n",
    "    </tr>\n",
    "    <tr>\n",
    "        <td>float32</td>\n",
    "        <td>float</td>\n",
    "    </tr>\n",
    "        <tr>\n",
    "        <td>float64</td>\n",
    "        <td>double</td>\n",
    "    </tr>\n",
    "        <tr>\n",
    "        <td>complex64</td>\n",
    "        <td>complex</td>\n",
    "    </tr>\n",
    "        <tr>\n",
    "        <td>complex128</td>\n",
    "        <td>complex</td>\n",
    "    </tr>\n",
    "     \n",
    "</table>\n",
    "  "
   ]
  },
  {
   "cell_type": "code",
   "execution_count": 2,
   "metadata": {},
   "outputs": [],
   "source": [
    "import numpy as np"
   ]
  },
  {
   "cell_type": "code",
   "execution_count": 3,
   "metadata": {},
   "outputs": [
    {
     "name": "stdout",
     "output_type": "stream",
     "text": [
      "1.0\n"
     ]
    }
   ],
   "source": [
    "x = np.float32(1.0)\n",
    "print(x)"
   ]
  },
  {
   "cell_type": "code",
   "execution_count": 4,
   "metadata": {},
   "outputs": [
    {
     "name": "stdout",
     "output_type": "stream",
     "text": [
      "9.464646464646464e+32\n"
     ]
    }
   ],
   "source": [
    "x = np.float64(946464646464646464646464646464466.333131313113)\n",
    "print(x)"
   ]
  },
  {
   "cell_type": "code",
   "execution_count": 5,
   "metadata": {},
   "outputs": [
    {
     "name": "stdout",
     "output_type": "stream",
     "text": [
      "[1 2 4]\n"
     ]
    }
   ],
   "source": [
    "x = np.int_([1,2,4])\n",
    "print(x)"
   ]
  },
  {
   "cell_type": "code",
   "execution_count": 7,
   "metadata": {},
   "outputs": [
    {
     "name": "stdout",
     "output_type": "stream",
     "text": [
      "[0 1 2]\n"
     ]
    }
   ],
   "source": [
    "x = np.arange(3, dtype=np.uint8)\n",
    "print(x)"
   ]
  },
  {
   "cell_type": "code",
   "execution_count": 6,
   "metadata": {},
   "outputs": [
    {
     "data": {
      "text/plain": [
       "array([2, 4, 6, 8])"
      ]
     },
     "execution_count": 6,
     "metadata": {},
     "output_type": "execute_result"
    }
   ],
   "source": [
    "x = np.arange(2, 10, 2)\n",
    "x"
   ]
  },
  {
   "cell_type": "code",
   "execution_count": 8,
   "metadata": {},
   "outputs": [
    {
     "name": "stdout",
     "output_type": "stream",
     "text": [
      "[1. 2. 3.]\n"
     ]
    }
   ],
   "source": [
    "x = np.array([1, 2, 3], dtype='f')\n",
    "print(x)"
   ]
  },
  {
   "cell_type": "code",
   "execution_count": 10,
   "metadata": {},
   "outputs": [
    {
     "name": "stdout",
     "output_type": "stream",
     "text": [
      "34\n"
     ]
    }
   ],
   "source": [
    "x = np.int8(34)\n",
    "print(x)"
   ]
  }
 ],
 "metadata": {
  "kernelspec": {
   "display_name": "Python 3",
   "language": "python",
   "name": "python3"
  },
  "language_info": {
   "codemirror_mode": {
    "name": "ipython",
    "version": 3
   },
   "file_extension": ".py",
   "mimetype": "text/x-python",
   "name": "python",
   "nbconvert_exporter": "python",
   "pygments_lexer": "ipython3",
   "version": "3.6.8"
  }
 },
 "nbformat": 4,
 "nbformat_minor": 4
}
